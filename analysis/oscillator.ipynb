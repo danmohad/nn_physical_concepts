{
 "cells": [
  {
   "cell_type": "code",
   "execution_count": 6,
   "metadata": {},
   "outputs": [],
   "source": [
    "import sys\n",
    "sys.path.append(\"/Users/danmohad/Documents/Stanford/Courses/Year 5/CS230/project/nn_physical_concepts\")\n",
    "\n",
    "import numpy as np\n",
    "import matplotlib.pyplot as plt\n",
    "from mpl_toolkits.mplot3d import Axes3D\n",
    "from matplotlib import cm\n",
    "from scinet import *\n",
    "import scinet.ed_oscillator as ed\n",
    "from sklearn.feature_selection import mutual_info_regression"
   ]
  },
  {
   "cell_type": "markdown",
   "metadata": {},
   "source": [
    "### Helper functions for plots"
   ]
  },
  {
   "cell_type": "code",
   "execution_count": 7,
   "metadata": {},
   "outputs": [],
   "source": [
    "def osc_eqn(A_0, delta_0, b, kappa, t):\n",
    "    return np.real(A_0 * np.exp(-b / 2. * t) * np.exp(1 / 2. * np.sqrt(b**2 - 4 * kappa + 0.j) * t + 1.j * delta_0))\n",
    "\n",
    "def gen_input(A_0, delta_0, b, kappa, tt_predicted):\n",
    "    tt_in = np.linspace(0, 5, 50)\n",
    "    in1 = np.array([osc_eqn(A_0, delta_0, b, kappa, tt_in) for _ in tt_predicted])\n",
    "    in2 = np.reshape(tt_predicted, (-1, 1))\n",
    "    out = in2 #dummy filler\n",
    "    return [in1, in2, out]"
   ]
  },
  {
   "cell_type": "code",
   "execution_count": 8,
   "metadata": {},
   "outputs": [],
   "source": [
    "blue_color='#000cff'\n",
    "orange_color='#ff7700'"
   ]
  },
  {
   "cell_type": "code",
   "execution_count": 4,
   "metadata": {},
   "outputs": [],
   "source": [
    "def pendulum_prediction(net, b, kappa):    \n",
    "    tt_given = np.linspace(0, 10, 250)\n",
    "    tt_predicted = np.linspace(0, 10, 250)\n",
    "    a_given = osc_eqn(1, 0, b, kappa, tt_given)\n",
    "    a_precicted = net.run(gen_input(1, 0, b, kappa, tt_predicted), net.output).ravel()\n",
    "    fig = plt.figure(figsize=(3.4, 2.1))\n",
    "    ax = fig.add_subplot(111)\n",
    "    ax.plot(tt_given, a_given, color=orange_color, label='True time evolution')\n",
    "    ax.plot(tt_predicted, a_precicted, '--', color=blue_color, label='Predicted time evolution')\n",
    "    ax.set_xlabel(r'$t$ [$s$]')\n",
    "    ax.set_ylabel(r'$x$ [$m$]')\n",
    "    handles, labels = ax.get_legend_handles_labels()\n",
    "    lgd=ax.legend(handles, labels,loc='upper center', bbox_to_anchor=(0.6, 1.3), shadow=True, ncol=1)\n",
    "    fig.tight_layout()\n",
    "    return fig"
   ]
  },
  {
   "cell_type": "code",
   "execution_count": 5,
   "metadata": {},
   "outputs": [],
   "source": [
    "def osc_representation_plot(net, b_range, kappa_range, step_num=100, eval_time=7.5):\n",
    "    bb = np.linspace(*b_range, num=step_num)\n",
    "    kk = np.linspace(*kappa_range, num=step_num)\n",
    "    B, K = np.meshgrid(bb, kk)\n",
    "    out = np.array([net.run(gen_input(1, 0, b, kappa, [eval_time]), net.mu)[0] for b, kappa in zip(np.ravel(B), np.ravel(K))])\n",
    "    fig = plt.figure(figsize=(net.latent_size*3.9, 2.1))\n",
    "    for i in range(net.latent_size):\n",
    "        zs = out[:, i]\n",
    "        ax = fig.add_subplot('1{}{}'.format(net.latent_size, i + 1), projection='3d')\n",
    "        Z = np.reshape(zs, B.shape)\n",
    "        surf = ax.plot_surface(B, K, Z, rstride=1, cstride=1, cmap=cm.inferno, linewidth=0)\n",
    "        ax.set_xlabel(r'$b$ [$kg/s$]')\n",
    "        ax.set_ylabel(r'$\\kappa$ [$kg/s^2$]')\n",
    "        ax.set_zlabel('Latent activation {}'.format(i + 1))\n",
    "        if (i==2):\n",
    "            ax.set_zlim(-1,1) #Fix the scale for the third plot, where the activation is close to zero\n",
    "        ax.set_zticks([-1,-0.5,0,0.5,1])\n",
    "    fig.tight_layout()\n",
    "    return fig"
   ]
  },
  {
   "cell_type": "markdown",
   "metadata": {},
   "source": [
    "# Generate data"
   ]
  },
  {
   "cell_type": "code",
   "execution_count": 31,
   "metadata": {},
   "outputs": [],
   "source": [
    "# Dataset constants\n",
    "name = \"oscillator\"\n",
    "n_examples = 10000\n",
    "t_end = 5.0\n",
    "n_observations = 50\n",
    "percent_validation = 5.0\n",
    "\n",
    "t_sim = np.linspace(0.0, t_end, n_observations)\n",
    "\n",
    "# Network architecture constants\n",
    "latent_size = 3\n",
    "question_size = 1\n",
    "answer_size = 1\n",
    "encoder_layout = [500,100]\n",
    "decoder_layout = [100,100]"
   ]
  },
  {
   "cell_type": "code",
   "execution_count": 32,
   "metadata": {},
   "outputs": [],
   "source": [
    "# Generate and save data\n",
    "ed.oscillator_data(n_examples, t_sample=t_sim, fileName=name + \"_data\");"
   ]
  },
  {
   "cell_type": "code",
   "execution_count": 33,
   "metadata": {},
   "outputs": [],
   "source": [
    "# Load data\n",
    "td, vd, _, _, _ = dl.load(percent_validation, name + \"_data\")"
   ]
  },
  {
   "cell_type": "code",
   "execution_count": 34,
   "metadata": {},
   "outputs": [],
   "source": [
    "# Creat NN object\n",
    "net = nn.Network(n_observations, latent_size, question_size, answer_size, \n",
    "                 encoder_num_units=encoder_layout, decoder_num_units=decoder_layout,\n",
    "                 name=name + \"_net\");"
   ]
  },
  {
   "cell_type": "code",
   "execution_count": 35,
   "metadata": {},
   "outputs": [
    {
     "name": "stdout",
     "output_type": "stream",
     "text": [
      "2.1415837\n"
     ]
    }
   ],
   "source": [
    "print(net.run(vd, net.recon_loss))"
   ]
  },
  {
   "cell_type": "code",
   "execution_count": 36,
   "metadata": {},
   "outputs": [
    {
     "data": {
      "application/vnd.jupyter.widget-view+json": {
       "model_id": "c35df13cd3384bf6b2381033ab9c3d42",
       "version_major": 2,
       "version_minor": 0
      },
      "text/plain": [
       "  0%|          | 0/50 [00:00<?, ?it/s]"
      ]
     },
     "metadata": {},
     "output_type": "display_data"
    }
   ],
   "source": [
    "net.train(50, 256, 0.001, td, vd)\n",
    "#net.train(check_epochs, 512, 0.001, td, vd, beta_fun=(lambda x: 0.001), test_step=10 )"
   ]
  },
  {
   "cell_type": "code",
   "execution_count": 37,
   "metadata": {},
   "outputs": [
    {
     "data": {
      "text/plain": [
       "0.017872225"
      ]
     },
     "execution_count": 37,
     "metadata": {},
     "output_type": "execute_result"
    }
   ],
   "source": [
    "net.run(vd, net.recon_loss)"
   ]
  },
  {
   "cell_type": "code",
   "execution_count": 38,
   "metadata": {},
   "outputs": [
    {
     "data": {
      "application/vnd.jupyter.widget-view+json": {
       "model_id": "67771cde2ea8467da46a3e4d65358b47",
       "version_major": 2,
       "version_minor": 0
      },
      "text/plain": [
       "  0%|          | 0/50 [00:00<?, ?it/s]"
      ]
     },
     "metadata": {},
     "output_type": "display_data"
    }
   ],
   "source": [
    "net.train(50, 256, 0.001, td, vd)"
   ]
  },
  {
   "cell_type": "code",
   "execution_count": 39,
   "metadata": {},
   "outputs": [
    {
     "data": {
      "text/plain": [
       "0.012161644"
      ]
     },
     "execution_count": 39,
     "metadata": {},
     "output_type": "execute_result"
    }
   ],
   "source": [
    "net.run(vd, net.recon_loss)"
   ]
  },
  {
   "cell_type": "code",
   "execution_count": 40,
   "metadata": {},
   "outputs": [
    {
     "data": {
      "image/png": "[encoded data removed]",
      "text/plain": [
       "<Figure size 244.8x151.2 with 1 Axes>"
      ]
     },
     "metadata": {
      "needs_background": "light"
     },
     "output_type": "display_data"
    }
   ],
   "source": [
    "pendulum_prediction(net, 0.5, 5.);"
   ]
  },
  {
   "cell_type": "markdown",
   "metadata": {},
   "source": [
    "## Load pre-trained model\n",
    "\n",
    "### Parameters\n",
    "- `latent_size: 2` \n",
    "- `input_size: 50`\n",
    "- `input2_size: 1`\n",
    "- `output_size: 1`\n",
    "- `encoder_num_units: [500, 100]`\n",
    "- other parameters: default values\n",
    "### Data\n",
    "- Only kappa and b are varied (in the default intervals), A_0 and delta_0 are fixed\n",
    "- `t_sample: np.linspace(0, 5, 50)` (fed into the network)\n",
    "- `t_meas_interval: (0, 10)` (time interval in which prediction times lie)\n",
    "- training data: 95000 samples\n",
    "- validation data: 5000 samples\n",
    "\n",
    "### Training\n",
    "- `epoch_num: 1000`, `batch_size: 512`, `learning_rate: 1e-3`, `beta: 1e-3`"
   ]
  },
  {
   "cell_type": "code",
   "execution_count": 6,
   "metadata": {},
   "outputs": [
    {
     "name": "stdout",
     "output_type": "stream",
     "text": [
      "{'decoder_num_units': [100, 100], 'input2_size': 1, 'tot_epochs': 1000, 'latent_size': 2, 'output_size': 1, 'encoder_num_units': [500, 100], 'input_size': 50, 'load_file': 'oscillator', 'name': 'oscin2_5'}\n",
      "WARNING:tensorflow:From /Users/danmohad/Documents/Stanford/Courses/Year 5/CS230/project/nn_physical_concepts/scinet/model.py:165: The name tf.placeholder is deprecated. Please use tf.compat.v1.placeholder instead.\n",
      "\n",
      "WARNING:tensorflow:From /Users/danmohad/Documents/Stanford/Courses/Year 5/CS230/project/nn_physical_concepts/scinet/model.py:175: The name tf.variable_scope is deprecated. Please use tf.compat.v1.variable_scope instead.\n",
      "\n",
      "WARNING:tensorflow:From /Users/danmohad/Documents/Stanford/Courses/Year 5/CS230/project/nn_physical_concepts/scinet/model.py:182: The name tf.get_variable is deprecated. Please use tf.compat.v1.get_variable instead.\n",
      "\n",
      "WARNING:tensorflow:From /Users/danmohad/Documents/Stanford/Courses/Year 5/CS230/project/nn_physical_concepts/scinet/model.py:299: The name tf.summary.histogram is deprecated. Please use tf.compat.v1.summary.histogram instead.\n",
      "\n",
      "WARNING:tensorflow:From /Users/danmohad/Documents/Stanford/Courses/Year 5/CS230/project/nn_physical_concepts/scinet/model.py:319: The name tf.log is deprecated. Please use tf.math.log instead.\n",
      "\n",
      "WARNING:tensorflow:From /Users/danmohad/Documents/Stanford/Courses/Year 5/CS230/project/nn_physical_concepts/scinet/model.py:215: The name tf.squared_difference is deprecated. Please use tf.math.squared_difference instead.\n",
      "\n",
      "WARNING:tensorflow:From /Users/danmohad/Documents/Stanford/Courses/Year 5/CS230/project/nn_physical_concepts/scinet/model.py:223: The name tf.train.AdamOptimizer is deprecated. Please use tf.compat.v1.train.AdamOptimizer instead.\n",
      "\n",
      "WARNING:tensorflow:From /Users/danmohad/Utilities/anaconda2/envs/env_scinet/lib/python2.7/site-packages/tensorflow_core/python/ops/math_grad.py:1375: where (from tensorflow.python.ops.array_ops) is deprecated and will be removed in a future version.\n",
      "Instructions for updating:\n",
      "Use tf.where in 2.0, which has the same broadcast rule as np.where\n",
      "WARNING:tensorflow:From /Users/danmohad/Documents/Stanford/Courses/Year 5/CS230/project/nn_physical_concepts/scinet/model.py:234: The name tf.summary.scalar is deprecated. Please use tf.compat.v1.summary.scalar instead.\n",
      "\n",
      "WARNING:tensorflow:From /Users/danmohad/Documents/Stanford/Courses/Year 5/CS230/project/nn_physical_concepts/scinet/model.py:239: The name tf.summary.FileWriter is deprecated. Please use tf.compat.v1.summary.FileWriter instead.\n",
      "\n",
      "WARNING:tensorflow:From /Users/danmohad/Documents/Stanford/Courses/Year 5/CS230/project/nn_physical_concepts/scinet/model.py:241: The name tf.summary.merge_all is deprecated. Please use tf.compat.v1.summary.merge_all instead.\n",
      "\n",
      "WARNING:tensorflow:From /Users/danmohad/Documents/Stanford/Courses/Year 5/CS230/project/nn_physical_concepts/scinet/model.py:51: The name tf.Session is deprecated. Please use tf.compat.v1.Session instead.\n",
      "\n",
      "WARNING:tensorflow:From /Users/danmohad/Documents/Stanford/Courses/Year 5/CS230/project/nn_physical_concepts/scinet/model.py:307: The name tf.global_variables is deprecated. Please use tf.compat.v1.global_variables instead.\n",
      "\n",
      "WARNING:tensorflow:From /Users/danmohad/Documents/Stanford/Courses/Year 5/CS230/project/nn_physical_concepts/scinet/model.py:308: The name tf.is_variable_initialized is deprecated. Please use tf.compat.v1.is_variable_initialized instead.\n",
      "\n",
      "WARNING:tensorflow:From /Users/danmohad/Documents/Stanford/Courses/Year 5/CS230/project/nn_physical_concepts/scinet/model.py:312: The name tf.variables_initializer is deprecated. Please use tf.compat.v1.variables_initializer instead.\n",
      "\n",
      "WARNING:tensorflow:From /Users/danmohad/Documents/Stanford/Courses/Year 5/CS230/project/nn_physical_concepts/scinet/model.py:281: The name tf.train.Saver is deprecated. Please use tf.compat.v1.train.Saver instead.\n",
      "\n",
      "INFO:tensorflow:Restoring parameters from /Users/danmohad/Documents/Stanford/Courses/Year 5/CS230/project/nn_physical_concepts/tf_save/oscillator.ckpt\n",
      "Loaded network from file oscillator\n"
     ]
    }
   ],
   "source": [
    "net_2_latent = nn.Network.from_saved('oscillator')"
   ]
  },
  {
   "cell_type": "code",
   "execution_count": 7,
   "metadata": {},
   "outputs": [
    {
     "data": {
      "image/png": "[encoded data removed]",
      "text/plain": [
       "<Figure size 244.8x151.2 with 1 Axes>"
      ]
     },
     "metadata": {
      "needs_background": "light"
     },
     "output_type": "display_data"
    }
   ],
   "source": [
    "pendulum_prediction(net_2_latent, 0.5, 5.);"
   ]
  },
  {
   "cell_type": "code",
   "execution_count": 8,
   "metadata": {},
   "outputs": [],
   "source": [
    "%matplotlib tk\n",
    "osc_representation_plot(net_2_latent, [0.5, 1], [5, 10]);"
   ]
  },
  {
   "cell_type": "markdown",
   "metadata": {},
   "source": [
    "## Load pre-trained model\n",
    "\n",
    "### Parameters\n",
    "- `latent_size: 3` \n",
    "- Rest as for `net_2_latent`"
   ]
  },
  {
   "cell_type": "code",
   "execution_count": null,
   "metadata": {},
   "outputs": [],
   "source": [
    "net_3_latent = nn.Network.from_saved('oscillator_3_latent')"
   ]
  },
  {
   "cell_type": "code",
   "execution_count": null,
   "metadata": {},
   "outputs": [],
   "source": [
    "pendulum_prediction(net_3_latent, 0.5, 5.);"
   ]
  },
  {
   "cell_type": "code",
   "execution_count": null,
   "metadata": {
    "collapsed": true
   },
   "outputs": [],
   "source": [
    "%matplotlib tk\n",
    "osc_representation_plot(net_3_latent, [0.5, 1], [5, 10]);"
   ]
  },
  {
   "cell_type": "markdown",
   "metadata": {},
   "source": [
    "## Calculate L2 norm of error"
   ]
  },
  {
   "cell_type": "code",
   "execution_count": null,
   "metadata": {
    "collapsed": true
   },
   "outputs": [],
   "source": [
    "data, states, params = ed.oscillator_data(50000, t_meas_interval=(0, 10))"
   ]
  },
  {
   "cell_type": "code",
   "execution_count": null,
   "metadata": {
    "collapsed": true
   },
   "outputs": [],
   "source": [
    "np.sqrt(net_3_latent.run(data, net_3_latent.recon_loss))"
   ]
  },
  {
   "cell_type": "markdown",
   "metadata": {},
   "source": [
    "## Calculate mutual information between latent neurons"
   ]
  },
  {
   "cell_type": "code",
   "execution_count": null,
   "metadata": {
    "collapsed": true
   },
   "outputs": [],
   "source": [
    "data, states, params = ed.oscillator_data(200000, t_meas_interval=(0, 10))"
   ]
  },
  {
   "cell_type": "code",
   "execution_count": null,
   "metadata": {
    "collapsed": true
   },
   "outputs": [],
   "source": [
    "# Calculate the mutual information between two latent neurons\n",
    "def mi(net, data, latent_neuron_1, latent_neuron_2):\n",
    "    mu = net_3_latent.run(data, net_3_latent.mu)\n",
    "    mi_estimate = mutual_info_regression(mu[:,latent_neuron_1].reshape(-1, 1), mu[:,latent_neuron_2], discrete_features = False)\n",
    "    return mi_estimate[0]"
   ]
  },
  {
   "cell_type": "code",
   "execution_count": null,
   "metadata": {},
   "outputs": [],
   "source": [
    "mi(net_3_latent, data, 0, 0)"
   ]
  },
  {
   "cell_type": "code",
   "execution_count": null,
   "metadata": {},
   "outputs": [],
   "source": [
    "mi(net_3_latent, data, 0, 1)"
   ]
  }
 ],
 "metadata": {
  "anaconda-cloud": {},
  "kernelspec": {
   "display_name": "Python 2",
   "language": "python",
   "name": "python2"
  },
  "language_info": {
   "codemirror_mode": {
    "name": "ipython",
    "version": 2
   },
   "file_extension": ".py",
   "mimetype": "text/x-python",
   "name": "python",
   "nbconvert_exporter": "python",
   "pygments_lexer": "ipython2",
   "version": "2.7.18"
  }
 },
 "nbformat": 4,
 "nbformat_minor": 2
}
