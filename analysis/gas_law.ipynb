{
 "cells": [
  {
   "cell_type": "markdown",
   "metadata": {},
   "source": [
    "# Generate data"
   ]
  },
  {
   "cell_type": "code",
   "execution_count": 17,
   "metadata": {},
   "outputs": [],
   "source": [
    "import sys\n",
    "sys.path.append(\"/Users/danmohad/Documents/Stanford/Courses/Year 5/CS230/project/nn_physical_concepts\")\n",
    "\n",
    "import scinet.ed_gaslaw as ed\n",
    "from scinet import *\n",
    "\n",
    "import numpy as np\n",
    "import matplotlib.pyplot as plt"
   ]
  },
  {
   "cell_type": "code",
   "execution_count": 34,
   "metadata": {},
   "outputs": [],
   "source": [
    "# For pretty, Latex-style plots\n",
    "from matplotlib import rc\n",
    "rc('text', usetex=True)\n",
    "plt.rcParams.update({'font.size': 21}) #3x\n",
    "\n",
    "# Matlab plotting colours\\n\",\n",
    "colorvec = [[0, 0.4470, 0.7410],[0.8500, 0.3250, 0.0980],\n",
    "            [0.9290, 0.6940, 0.1250],[0.4940, 0.1840, 0.5560],\n",
    "            [0.4660, 0.6740, 0.1880],[0.3010, 0.7450, 0.9330],\n",
    "            [0.6350, 0.0780, 0.1840]]\n"
   ]
  },
  {
   "cell_type": "code",
   "execution_count": 3,
   "metadata": {},
   "outputs": [],
   "source": [
    "# Dataset constants\n",
    "name = \"gaslaw\"\n",
    "l_obs = 3\n",
    "l_ques = 2\n",
    "l_ques_obs = 0\n",
    "l_ans = 1\n",
    "\n",
    "# Dataset parameters\n",
    "n_ex = 100000\n",
    "n_obs = 5\n",
    "n_ques_obs = 0\n",
    "n_ques = 1 # always\n",
    "percent_validation = 5.0\n",
    "\n",
    "p_r = [0.5, 2.0]\n",
    "T_r = [0.7, 2.0]\n",
    "\n",
    "# Network architecture parameters\n",
    "latent_size = 1\n",
    "encoder_layout = [150,100]\n",
    "decoder_layout = [100,150]"
   ]
  },
  {
   "cell_type": "code",
   "execution_count": 4,
   "metadata": {},
   "outputs": [],
   "source": [
    "N = n_ex\n",
    "N_inp1 = l_obs*n_obs\n",
    "N_inp2 = l_ques_obs*n_ques_obs + l_ques*n_ques\n",
    "N_out = l_ans*n_ques"
   ]
  },
  {
   "cell_type": "code",
   "execution_count": 5,
   "metadata": {},
   "outputs": [],
   "source": [
    "ed.generate_data(N, n_obs, p_interval=p_r, T_interval=T_r, M1=0.04, M2=0.004,\n",
    "                 fileName=name + \"_data\");"
   ]
  },
  {
   "cell_type": "code",
   "execution_count": 15,
   "metadata": {},
   "outputs": [],
   "source": [
    "td, vd, _, vs, _ = dl.load(percent_validation, name + \"_data\")"
   ]
  },
  {
   "cell_type": "code",
   "execution_count": 7,
   "metadata": {},
   "outputs": [
    {
     "name": "stdout",
     "output_type": "stream",
     "text": [
      "WARNING:tensorflow:From /Users/danmohad/Documents/Stanford/Courses/Year 5/CS230/project/nn_physical_concepts/scinet/model.py:165: The name tf.placeholder is deprecated. Please use tf.compat.v1.placeholder instead.\n",
      "\n",
      "WARNING:tensorflow:From /Users/danmohad/Documents/Stanford/Courses/Year 5/CS230/project/nn_physical_concepts/scinet/model.py:175: The name tf.variable_scope is deprecated. Please use tf.compat.v1.variable_scope instead.\n",
      "\n",
      "WARNING:tensorflow:From /Users/danmohad/Documents/Stanford/Courses/Year 5/CS230/project/nn_physical_concepts/scinet/model.py:182: The name tf.get_variable is deprecated. Please use tf.compat.v1.get_variable instead.\n",
      "\n",
      "WARNING:tensorflow:From /Users/danmohad/Documents/Stanford/Courses/Year 5/CS230/project/nn_physical_concepts/scinet/model.py:299: The name tf.summary.histogram is deprecated. Please use tf.compat.v1.summary.histogram instead.\n",
      "\n",
      "WARNING:tensorflow:From /Users/danmohad/Documents/Stanford/Courses/Year 5/CS230/project/nn_physical_concepts/scinet/model.py:319: The name tf.log is deprecated. Please use tf.math.log instead.\n",
      "\n",
      "WARNING:tensorflow:From /Users/danmohad/Documents/Stanford/Courses/Year 5/CS230/project/nn_physical_concepts/scinet/model.py:215: The name tf.squared_difference is deprecated. Please use tf.math.squared_difference instead.\n",
      "\n",
      "WARNING:tensorflow:From /Users/danmohad/Documents/Stanford/Courses/Year 5/CS230/project/nn_physical_concepts/scinet/model.py:223: The name tf.train.AdamOptimizer is deprecated. Please use tf.compat.v1.train.AdamOptimizer instead.\n",
      "\n",
      "WARNING:tensorflow:From /Users/danmohad/Utilities/anaconda2/envs/env_scinet/lib/python2.7/site-packages/tensorflow_core/python/ops/math_grad.py:1375: where (from tensorflow.python.ops.array_ops) is deprecated and will be removed in a future version.\n",
      "Instructions for updating:\n",
      "Use tf.where in 2.0, which has the same broadcast rule as np.where\n",
      "WARNING:tensorflow:From /Users/danmohad/Documents/Stanford/Courses/Year 5/CS230/project/nn_physical_concepts/scinet/model.py:234: The name tf.summary.scalar is deprecated. Please use tf.compat.v1.summary.scalar instead.\n",
      "\n",
      "WARNING:tensorflow:From /Users/danmohad/Documents/Stanford/Courses/Year 5/CS230/project/nn_physical_concepts/scinet/model.py:239: The name tf.summary.FileWriter is deprecated. Please use tf.compat.v1.summary.FileWriter instead.\n",
      "\n",
      "WARNING:tensorflow:From /Users/danmohad/Documents/Stanford/Courses/Year 5/CS230/project/nn_physical_concepts/scinet/model.py:241: The name tf.summary.merge_all is deprecated. Please use tf.compat.v1.summary.merge_all instead.\n",
      "\n",
      "WARNING:tensorflow:From /Users/danmohad/Documents/Stanford/Courses/Year 5/CS230/project/nn_physical_concepts/scinet/model.py:51: The name tf.Session is deprecated. Please use tf.compat.v1.Session instead.\n",
      "\n",
      "WARNING:tensorflow:From /Users/danmohad/Documents/Stanford/Courses/Year 5/CS230/project/nn_physical_concepts/scinet/model.py:307: The name tf.global_variables is deprecated. Please use tf.compat.v1.global_variables instead.\n",
      "\n",
      "WARNING:tensorflow:From /Users/danmohad/Documents/Stanford/Courses/Year 5/CS230/project/nn_physical_concepts/scinet/model.py:308: The name tf.is_variable_initialized is deprecated. Please use tf.compat.v1.is_variable_initialized instead.\n",
      "\n",
      "WARNING:tensorflow:From /Users/danmohad/Documents/Stanford/Courses/Year 5/CS230/project/nn_physical_concepts/scinet/model.py:312: The name tf.variables_initializer is deprecated. Please use tf.compat.v1.variables_initializer instead.\n",
      "\n"
     ]
    }
   ],
   "source": [
    "net = nn.Network(N_inp1, latent_size, N_inp2, N_out, \n",
    "                 encoder_num_units=encoder_layout, decoder_num_units=decoder_layout,\n",
    "                 name=name + \"_net\");"
   ]
  },
  {
   "cell_type": "code",
   "execution_count": 8,
   "metadata": {},
   "outputs": [
    {
     "name": "stdout",
     "output_type": "stream",
     "text": [
      "0.37384906\n"
     ]
    }
   ],
   "source": [
    "print(net.run(vd, net.recon_loss))"
   ]
  },
  {
   "cell_type": "code",
   "execution_count": 9,
   "metadata": {},
   "outputs": [
    {
     "data": {
      "application/vnd.jupyter.widget-view+json": {
       "model_id": "f6f4b48ac6ed423da619cc99546f82fa",
       "version_major": 2,
       "version_minor": 0
      },
      "text/plain": [
       "  0%|          | 0/50 [00:00<?, ?it/s]"
      ]
     },
     "metadata": {},
     "output_type": "display_data"
    }
   ],
   "source": [
    "net.train(50, 256, 0.001, td, vd)\n",
    "# check_epochs = 10\n",
    "# net.train(check_epochs, 512, 0.001, td, vd, beta_fun=(lambda x: 0.001), test_step=10 )"
   ]
  },
  {
   "cell_type": "code",
   "execution_count": 10,
   "metadata": {},
   "outputs": [
    {
     "name": "stdout",
     "output_type": "stream",
     "text": [
      "0.00045139724\n"
     ]
    }
   ],
   "source": [
    "print(net.run(vd, net.recon_loss))"
   ]
  },
  {
   "cell_type": "code",
   "execution_count": null,
   "metadata": {},
   "outputs": [],
   "source": []
  },
  {
   "cell_type": "code",
   "execution_count": 39,
   "metadata": {},
   "outputs": [],
   "source": [
    "def plot_state_neuron_wrt_angular_momentum(nn,data,data_states):\n",
    "    out = nn.run(data, nn.mu, additional_params={})\n",
    "    Z = data_states\n",
    "    R = 8.314 / ((Z/M1) + ((1.0-Z)/M2))\n",
    "    plt.scatter(R, out.flatten())\n",
    "    plt.ylabel(r\"$a_{lat}$\")\n",
    "    plt.xlabel(r\"$\\overline{R}$\")"
   ]
  },
  {
   "cell_type": "code",
   "execution_count": 40,
   "metadata": {},
   "outputs": [
    {
     "data": {
      "image/png": "[encoded data removed]",
      "text/plain": [
       "<Figure size 432x288 with 1 Axes>"
      ]
     },
     "metadata": {
      "needs_background": "light"
     },
     "output_type": "display_data"
    }
   ],
   "source": [
    "M1 = 0.04\n",
    "M2 = 0.004\n",
    "plot_state_neuron_wrt_angular_momentum(net, vd, vs)"
   ]
  },
  {
   "cell_type": "code",
   "execution_count": 41,
   "metadata": {},
   "outputs": [],
   "source": [
    "def plot_validation(nn, data):\n",
    "    output = nn.run(data, nn.output)\n",
    "    # plot rho vs. T for a few Z at fixed P."
   ]
  },
  {
   "cell_type": "code",
   "execution_count": null,
   "metadata": {},
   "outputs": [],
   "source": []
  }
 ],
 "metadata": {
  "kernelspec": {
   "display_name": "Python 2",
   "language": "python",
   "name": "python2"
  },
  "language_info": {
   "codemirror_mode": {
    "name": "ipython",
    "version": 2
   },
   "file_extension": ".py",
   "mimetype": "text/x-python",
   "name": "python",
   "nbconvert_exporter": "python",
   "pygments_lexer": "ipython2",
   "version": "2.7.18"
  }
 },
 "nbformat": 4,
 "nbformat_minor": 2
}
