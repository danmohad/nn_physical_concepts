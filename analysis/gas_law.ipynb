{
 "cells": [
  {
   "cell_type": "markdown",
   "metadata": {},
   "source": [
    "# Generate data"
   ]
  },
  {
   "cell_type": "code",
   "execution_count": 13,
   "metadata": {},
   "outputs": [],
   "source": [
    "import sys\n",
    "sys.path.append(\"/Users/danmohad/Documents/Stanford/Courses/Year 5/CS230/project/nn_physical_concepts\")\n",
    "\n",
    "import scinet.ed_gaslaw as ed\n",
    "from scinet import *\n",
    "\n",
    "import numpy as np"
   ]
  },
  {
   "cell_type": "code",
   "execution_count": 22,
   "metadata": {},
   "outputs": [],
   "source": [
    "# Dataset constants\n",
    "name = \"gaslaw\"\n",
    "l_obs = 3\n",
    "l_ques = 2\n",
    "l_ques_obs = 0\n",
    "l_ans = 1\n",
    "\n",
    "# Dataset parameters\n",
    "n_ex = 1000\n",
    "n_obs = 5\n",
    "n_ques_obs = 0\n",
    "n_ques = 1 # always\n",
    "percent_validation = 5.0\n",
    "\n",
    "p_r = [1.0, 2.0]\n",
    "T_r = [3.0, 4.0]\n",
    "\n",
    "# Network architecture parameters\n",
    "latent_size = 1\n",
    "encoder_layout = [150,100]\n",
    "decoder_layout = [100,150]"
   ]
  },
  {
   "cell_type": "code",
   "execution_count": 23,
   "metadata": {},
   "outputs": [],
   "source": [
    "N = n_ex\n",
    "N_inp1 = l_obs*n_obs\n",
    "N_inp2 = l_ques_obs*n_ques_obs + l_ques*n_ques\n",
    "N_out = l_ans*n_ques"
   ]
  },
  {
   "cell_type": "code",
   "execution_count": 24,
   "metadata": {},
   "outputs": [],
   "source": [
    "ed.generate_data(N, n_obs, p_interval=p_r, T_interval=T_r, species1=\"Ar\", species2=\"He\",\n",
    "                 fileName=name + \"_data\");"
   ]
  },
  {
   "cell_type": "code",
   "execution_count": 25,
   "metadata": {},
   "outputs": [],
   "source": [
    "td, vd, _, _, _ = dl.load(percent_validation, name + \"_data\")"
   ]
  },
  {
   "cell_type": "code",
   "execution_count": 26,
   "metadata": {},
   "outputs": [],
   "source": [
    "net = nn.Network(N_inp1, latent_size, N_inp2, N_out, \n",
    "                 encoder_num_units=encoder_layout, decoder_num_units=decoder_layout,\n",
    "                 name=name + \"_net\");"
   ]
  },
  {
   "cell_type": "code",
   "execution_count": 27,
   "metadata": {},
   "outputs": [
    {
     "name": "stdout",
     "output_type": "stream",
     "text": [
      "0.03108561\n"
     ]
    }
   ],
   "source": [
    "print(net.run(vd, net.recon_loss))"
   ]
  },
  {
   "cell_type": "code",
   "execution_count": 28,
   "metadata": {},
   "outputs": [
    {
     "data": {
      "application/vnd.jupyter.widget-view+json": {
       "model_id": "8e7e214e0002480dada8f4fb4322ac51",
       "version_major": 2,
       "version_minor": 0
      },
      "text/plain": [
       "  0%|          | 0/50 [00:00<?, ?it/s]"
      ]
     },
     "metadata": {},
     "output_type": "display_data"
    }
   ],
   "source": [
    "net.train(50, 256, 0.001, td, vd)\n",
    "# check_epochs = 10\n",
    "# net.train(check_epochs, 512, 0.001, td, vd, beta_fun=(lambda x: 0.001), test_step=10 )"
   ]
  },
  {
   "cell_type": "code",
   "execution_count": 29,
   "metadata": {},
   "outputs": [
    {
     "name": "stdout",
     "output_type": "stream",
     "text": [
      "0.00030080706\n"
     ]
    }
   ],
   "source": [
    "print(net.run(vd, net.recon_loss))"
   ]
  },
  {
   "cell_type": "code",
   "execution_count": null,
   "metadata": {},
   "outputs": [],
   "source": []
  }
 ],
 "metadata": {
  "kernelspec": {
   "display_name": "Python 2",
   "language": "python",
   "name": "python2"
  },
  "language_info": {
   "codemirror_mode": {
    "name": "ipython",
    "version": 2
   },
   "file_extension": ".py",
   "mimetype": "text/x-python",
   "name": "python",
   "nbconvert_exporter": "python",
   "pygments_lexer": "ipython2",
   "version": "2.7.18"
  }
 },
 "nbformat": 4,
 "nbformat_minor": 2
}
